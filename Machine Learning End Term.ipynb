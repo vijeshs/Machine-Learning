{
 "cells": [
  {
   "cell_type": "code",
   "execution_count": 1,
   "metadata": {
    "ExecuteTime": {
     "end_time": "2019-12-17T15:19:59.383160Z",
     "start_time": "2019-12-17T15:19:59.369345Z"
    }
   },
   "outputs": [
    {
     "name": "stdout",
     "output_type": "stream",
     "text": [
      "C:\\Users\\VIJESH\\Desktop\n"
     ]
    }
   ],
   "source": [
    "cd Desktop"
   ]
  },
  {
   "cell_type": "code",
   "execution_count": 2,
   "metadata": {
    "ExecuteTime": {
     "end_time": "2019-12-17T15:20:10.541576Z",
     "start_time": "2019-12-17T15:19:59.387521Z"
    }
   },
   "outputs": [],
   "source": [
    "import pandas as pd\n",
    "from sklearn.preprocessing import LabelEncoder, OneHotEncoder\n",
    "from sklearn.preprocessing import MinMaxScaler\n",
    "from sklearn.linear_model import LogisticRegression\n",
    "from sklearn.model_selection import train_test_split\n",
    "from sklearn.metrics import confusion_matrix\n",
    "import numpy as np\n",
    "from sklearn.metrics import accuracy_score \n",
    "from sklearn.neural_network import MLPClassifier\n",
    "from sklearn.ensemble.forest import RandomForestClassifier\n",
    "from sklearn import preprocessing"
   ]
  },
  {
   "cell_type": "code",
   "execution_count": 3,
   "metadata": {
    "ExecuteTime": {
     "end_time": "2019-12-17T15:20:10.599222Z",
     "start_time": "2019-12-17T15:20:10.551694Z"
    }
   },
   "outputs": [],
   "source": [
    "df=pd.read_csv(\"dataset_194_eucalyptus.csv\")"
   ]
  },
  {
   "cell_type": "code",
   "execution_count": 4,
   "metadata": {
    "ExecuteTime": {
     "end_time": "2019-12-17T15:20:10.901525Z",
     "start_time": "2019-12-17T15:20:10.610883Z"
    }
   },
   "outputs": [
    {
     "data": {
      "text/html": [
       "<div>\n",
       "<style scoped>\n",
       "    .dataframe tbody tr th:only-of-type {\n",
       "        vertical-align: middle;\n",
       "    }\n",
       "\n",
       "    .dataframe tbody tr th {\n",
       "        vertical-align: top;\n",
       "    }\n",
       "\n",
       "    .dataframe thead th {\n",
       "        text-align: right;\n",
       "    }\n",
       "</style>\n",
       "<table border=\"1\" class=\"dataframe\">\n",
       "  <thead>\n",
       "    <tr style=\"text-align: right;\">\n",
       "      <th></th>\n",
       "      <th>Abbrev</th>\n",
       "      <th>Rep</th>\n",
       "      <th>Locality</th>\n",
       "      <th>Map_Ref</th>\n",
       "      <th>Latitude</th>\n",
       "      <th>Altitude</th>\n",
       "      <th>Rainfall</th>\n",
       "      <th>Frosts</th>\n",
       "      <th>Year</th>\n",
       "      <th>Sp</th>\n",
       "      <th>PMCno</th>\n",
       "      <th>DBH</th>\n",
       "      <th>Ht</th>\n",
       "      <th>Surv</th>\n",
       "      <th>Vig</th>\n",
       "      <th>Ins_res</th>\n",
       "      <th>Stem_Fm</th>\n",
       "      <th>Crown_Fm</th>\n",
       "      <th>Brnch_Fm</th>\n",
       "      <th>Utility</th>\n",
       "    </tr>\n",
       "  </thead>\n",
       "  <tbody>\n",
       "    <tr>\n",
       "      <th>0</th>\n",
       "      <td>Cra</td>\n",
       "      <td>1</td>\n",
       "      <td>Central_Hawkes_Bay</td>\n",
       "      <td>N135_382/137</td>\n",
       "      <td>39__38</td>\n",
       "      <td>100</td>\n",
       "      <td>850</td>\n",
       "      <td>-2</td>\n",
       "      <td>1980</td>\n",
       "      <td>co</td>\n",
       "      <td>1520</td>\n",
       "      <td>18.45</td>\n",
       "      <td>9.96</td>\n",
       "      <td>40</td>\n",
       "      <td>4</td>\n",
       "      <td>3</td>\n",
       "      <td>3.5</td>\n",
       "      <td>4</td>\n",
       "      <td>3.5</td>\n",
       "      <td>good</td>\n",
       "    </tr>\n",
       "    <tr>\n",
       "      <th>1</th>\n",
       "      <td>Cra</td>\n",
       "      <td>1</td>\n",
       "      <td>Central_Hawkes_Bay</td>\n",
       "      <td>N135_382/137</td>\n",
       "      <td>39__38</td>\n",
       "      <td>100</td>\n",
       "      <td>850</td>\n",
       "      <td>-2</td>\n",
       "      <td>1980</td>\n",
       "      <td>fr</td>\n",
       "      <td>1487</td>\n",
       "      <td>13.15</td>\n",
       "      <td>9.65</td>\n",
       "      <td>90</td>\n",
       "      <td>4.5</td>\n",
       "      <td>4</td>\n",
       "      <td>3.5</td>\n",
       "      <td>3.5</td>\n",
       "      <td>3</td>\n",
       "      <td>best</td>\n",
       "    </tr>\n",
       "    <tr>\n",
       "      <th>2</th>\n",
       "      <td>Cra</td>\n",
       "      <td>1</td>\n",
       "      <td>Central_Hawkes_Bay</td>\n",
       "      <td>N135_382/137</td>\n",
       "      <td>39__38</td>\n",
       "      <td>100</td>\n",
       "      <td>850</td>\n",
       "      <td>-2</td>\n",
       "      <td>1980</td>\n",
       "      <td>ma</td>\n",
       "      <td>1362</td>\n",
       "      <td>10.32</td>\n",
       "      <td>6.5</td>\n",
       "      <td>50</td>\n",
       "      <td>2.3</td>\n",
       "      <td>2.5</td>\n",
       "      <td>3</td>\n",
       "      <td>3.5</td>\n",
       "      <td>3</td>\n",
       "      <td>low</td>\n",
       "    </tr>\n",
       "    <tr>\n",
       "      <th>3</th>\n",
       "      <td>Cra</td>\n",
       "      <td>1</td>\n",
       "      <td>Central_Hawkes_Bay</td>\n",
       "      <td>N135_382/137</td>\n",
       "      <td>39__38</td>\n",
       "      <td>100</td>\n",
       "      <td>850</td>\n",
       "      <td>-2</td>\n",
       "      <td>1980</td>\n",
       "      <td>nd</td>\n",
       "      <td>1596</td>\n",
       "      <td>14.8</td>\n",
       "      <td>9.48</td>\n",
       "      <td>70</td>\n",
       "      <td>3.7</td>\n",
       "      <td>3</td>\n",
       "      <td>3.3</td>\n",
       "      <td>4</td>\n",
       "      <td>3.5</td>\n",
       "      <td>good</td>\n",
       "    </tr>\n",
       "    <tr>\n",
       "      <th>4</th>\n",
       "      <td>Cra</td>\n",
       "      <td>1</td>\n",
       "      <td>Central_Hawkes_Bay</td>\n",
       "      <td>N135_382/137</td>\n",
       "      <td>39__38</td>\n",
       "      <td>100</td>\n",
       "      <td>850</td>\n",
       "      <td>-2</td>\n",
       "      <td>1980</td>\n",
       "      <td>ni</td>\n",
       "      <td>2088</td>\n",
       "      <td>14.5</td>\n",
       "      <td>10.78</td>\n",
       "      <td>90</td>\n",
       "      <td>4</td>\n",
       "      <td>2.7</td>\n",
       "      <td>3.3</td>\n",
       "      <td>3</td>\n",
       "      <td>3</td>\n",
       "      <td>good</td>\n",
       "    </tr>\n",
       "  </tbody>\n",
       "</table>\n",
       "</div>"
      ],
      "text/plain": [
       "  Abbrev  Rep            Locality       Map_Ref Latitude  Altitude  Rainfall  \\\n",
       "0    Cra    1  Central_Hawkes_Bay  N135_382/137   39__38       100       850   \n",
       "1    Cra    1  Central_Hawkes_Bay  N135_382/137   39__38       100       850   \n",
       "2    Cra    1  Central_Hawkes_Bay  N135_382/137   39__38       100       850   \n",
       "3    Cra    1  Central_Hawkes_Bay  N135_382/137   39__38       100       850   \n",
       "4    Cra    1  Central_Hawkes_Bay  N135_382/137   39__38       100       850   \n",
       "\n",
       "   Frosts  Year  Sp PMCno    DBH     Ht Surv  Vig Ins_res Stem_Fm Crown_Fm  \\\n",
       "0      -2  1980  co  1520  18.45   9.96   40    4       3     3.5        4   \n",
       "1      -2  1980  fr  1487  13.15   9.65   90  4.5       4     3.5      3.5   \n",
       "2      -2  1980  ma  1362  10.32    6.5   50  2.3     2.5       3      3.5   \n",
       "3      -2  1980  nd  1596   14.8   9.48   70  3.7       3     3.3        4   \n",
       "4      -2  1980  ni  2088   14.5  10.78   90    4     2.7     3.3        3   \n",
       "\n",
       "  Brnch_Fm Utility  \n",
       "0      3.5    good  \n",
       "1        3    best  \n",
       "2        3     low  \n",
       "3      3.5    good  \n",
       "4        3    good  "
      ]
     },
     "execution_count": 4,
     "metadata": {},
     "output_type": "execute_result"
    }
   ],
   "source": [
    "df.head()"
   ]
  },
  {
   "cell_type": "code",
   "execution_count": 5,
   "metadata": {
    "ExecuteTime": {
     "end_time": "2019-12-17T15:20:10.946369Z",
     "start_time": "2019-12-17T15:20:10.911170Z"
    },
    "scrolled": true
   },
   "outputs": [
    {
     "name": "stdout",
     "output_type": "stream",
     "text": [
      "<class 'pandas.core.frame.DataFrame'>\n",
      "RangeIndex: 736 entries, 0 to 735\n",
      "Data columns (total 20 columns):\n",
      "Abbrev      736 non-null object\n",
      "Rep         736 non-null int64\n",
      "Locality    736 non-null object\n",
      "Map_Ref     736 non-null object\n",
      "Latitude    736 non-null object\n",
      "Altitude    736 non-null int64\n",
      "Rainfall    736 non-null int64\n",
      "Frosts      736 non-null int64\n",
      "Year        736 non-null int64\n",
      "Sp          736 non-null object\n",
      "PMCno       736 non-null object\n",
      "DBH         736 non-null object\n",
      "Ht          736 non-null object\n",
      "Surv        736 non-null object\n",
      "Vig         736 non-null object\n",
      "Ins_res     736 non-null object\n",
      "Stem_Fm     736 non-null object\n",
      "Crown_Fm    736 non-null object\n",
      "Brnch_Fm    736 non-null object\n",
      "Utility     736 non-null object\n",
      "dtypes: int64(5), object(15)\n",
      "memory usage: 115.1+ KB\n"
     ]
    }
   ],
   "source": [
    "df.info()"
   ]
  },
  {
   "cell_type": "markdown",
   "metadata": {},
   "source": [
    "## Data Cleaning"
   ]
  },
  {
   "cell_type": "code",
   "execution_count": 6,
   "metadata": {
    "ExecuteTime": {
     "end_time": "2019-12-17T15:20:11.034224Z",
     "start_time": "2019-12-17T15:20:10.948366Z"
    }
   },
   "outputs": [],
   "source": [
    "df=df.replace('?',np.nan) # filling the ? with null"
   ]
  },
  {
   "cell_type": "code",
   "execution_count": 7,
   "metadata": {
    "ExecuteTime": {
     "end_time": "2019-12-17T15:20:11.377744Z",
     "start_time": "2019-12-17T15:20:11.041601Z"
    }
   },
   "outputs": [],
   "source": [
    "df['PMCno']=df['PMCno'].fillna(df['PMCno'].median())\n",
    "df['DBH']=df['DBH'].fillna(df['DBH'].median())\n",
    "df['Ht']=df['Ht'].fillna(df['Ht'].median())\n",
    "df['Surv']=df['Surv'].fillna(df['Surv'].median())\n",
    "df['Vig']=df['Vig'].fillna(df['Vig'].median())\n",
    "df['Ins_res']=df['Ins_res'].fillna(df['Ins_res'].median())\n",
    "df['Stem_Fm']=df['Stem_Fm'].fillna(df['Stem_Fm'].median())\n",
    "df['Crown_Fm']=df['Crown_Fm'].fillna(df['Crown_Fm'].median())\n",
    "df['Brnch_Fm']=df['Brnch_Fm'].fillna(df['Brnch_Fm'].median())\n"
   ]
  },
  {
   "cell_type": "markdown",
   "metadata": {},
   "source": [
    "## Fixing Outliers"
   ]
  },
  {
   "cell_type": "code",
   "execution_count": 8,
   "metadata": {
    "ExecuteTime": {
     "end_time": "2019-12-17T15:20:11.435014Z",
     "start_time": "2019-12-17T15:20:11.394808Z"
    }
   },
   "outputs": [],
   "source": [
    "df['Rep']=df['Rep'].replace(22,1)  \n",
    "df['DBH']=df['DBH'].replace(42085,df['DBH'].median())\n",
    "df['PMCno']=df['PMCno'].replace(1,df['PMCno'].median())"
   ]
  },
  {
   "cell_type": "code",
   "execution_count": null,
   "metadata": {},
   "outputs": [],
   "source": []
  },
  {
   "cell_type": "code",
   "execution_count": 9,
   "metadata": {
    "ExecuteTime": {
     "end_time": "2019-12-17T15:20:11.638603Z",
     "start_time": "2019-12-17T15:20:11.445292Z"
    }
   },
   "outputs": [],
   "source": [
    "int_cols=['Altitude','Rainfall','DBH','Ht','Surv','Vig','Ins_res','Stem_Fm','Crown_Fm','Brnch_Fm', 'Frosts'] #numerical variable\n",
    "\n",
    "df[int_cols] = df[int_cols].apply(pd.to_numeric)\n",
    "\n",
    "cat_cols=['Abbrev', 'Rep', 'Locality','PMCno', 'Map_Ref', 'Latitude', 'Year', 'Sp'] #catogorical variables\n",
    "\n",
    "df['Utility']=LabelEncoder().fit_transform(df['Utility']) #encodes the target variable\n"
   ]
  },
  {
   "cell_type": "code",
   "execution_count": 10,
   "metadata": {
    "ExecuteTime": {
     "end_time": "2019-12-17T15:20:11.684509Z",
     "start_time": "2019-12-17T15:20:11.647159Z"
    }
   },
   "outputs": [],
   "source": [
    "df[cat_cols]=df[cat_cols].astype(str)"
   ]
  },
  {
   "cell_type": "markdown",
   "metadata": {},
   "source": [
    "## Label Encoding"
   ]
  },
  {
   "cell_type": "code",
   "execution_count": 11,
   "metadata": {
    "ExecuteTime": {
     "end_time": "2019-12-17T15:20:11.768994Z",
     "start_time": "2019-12-17T15:20:11.694725Z"
    }
   },
   "outputs": [],
   "source": [
    "for i in range(len(cat_cols)):\n",
    "    df[cat_cols[i]]=LabelEncoder().fit_transform(df[cat_cols[i]]) #encodes all the catagorical variable"
   ]
  },
  {
   "cell_type": "code",
   "execution_count": 12,
   "metadata": {
    "ExecuteTime": {
     "end_time": "2019-12-17T15:20:11.843002Z",
     "start_time": "2019-12-17T15:20:11.774408Z"
    }
   },
   "outputs": [],
   "source": [
    "x=df.iloc[:, :-1]\n",
    "\n",
    "y=df.iloc[:,-1]"
   ]
  },
  {
   "cell_type": "markdown",
   "metadata": {
    "ExecuteTime": {
     "end_time": "2019-12-17T15:17:43.892788Z",
     "start_time": "2019-12-17T15:17:43.881612Z"
    }
   },
   "source": [
    "## Data Standardization"
   ]
  },
  {
   "cell_type": "code",
   "execution_count": 13,
   "metadata": {
    "ExecuteTime": {
     "end_time": "2019-12-17T15:20:11.938326Z",
     "start_time": "2019-12-17T15:20:11.847166Z"
    }
   },
   "outputs": [],
   "source": [
    "\n",
    "standardized_X = preprocessing.scale(x)"
   ]
  },
  {
   "cell_type": "code",
   "execution_count": 14,
   "metadata": {
    "ExecuteTime": {
     "end_time": "2019-12-17T15:20:12.010919Z",
     "start_time": "2019-12-17T15:20:11.945749Z"
    }
   },
   "outputs": [],
   "source": [
    "x_train, x_test, y_train, y_test = train_test_split(standardized_X,y, test_size=0.01,random_state=20)"
   ]
  },
  {
   "cell_type": "markdown",
   "metadata": {},
   "source": [
    "## Logistic Regression"
   ]
  },
  {
   "cell_type": "code",
   "execution_count": 15,
   "metadata": {
    "ExecuteTime": {
     "end_time": "2019-12-17T15:20:12.524266Z",
     "start_time": "2019-12-17T15:20:12.020957Z"
    },
    "scrolled": true
   },
   "outputs": [
    {
     "name": "stderr",
     "output_type": "stream",
     "text": [
      "C:\\Users\\VIJESH\\AppData\\Local\\Continuum\\anaconda3\\lib\\site-packages\\sklearn\\linear_model\\logistic.py:469: FutureWarning: Default multi_class will be changed to 'auto' in 0.22. Specify the multi_class option to silence this warning.\n",
      "  \"this warning.\", FutureWarning)\n"
     ]
    },
    {
     "name": "stdout",
     "output_type": "stream",
     "text": [
      "Logistic Regression Accuracy is.\n",
      "75.0\n"
     ]
    },
    {
     "data": {
      "text/plain": [
       "array([[2, 0, 0, 0, 0],\n",
       "       [0, 1, 0, 0, 0],\n",
       "       [0, 0, 1, 0, 0],\n",
       "       [0, 0, 1, 0, 1],\n",
       "       [0, 0, 0, 0, 2]], dtype=int64)"
      ]
     },
     "execution_count": 15,
     "metadata": {},
     "output_type": "execute_result"
    }
   ],
   "source": [
    "lr = LogisticRegression(solver = 'lbfgs')\n",
    "lr.fit(x_train, y_train) #training the model\n",
    "y_pred = lr.predict(x_test) #evaluating with the test data\n",
    "\n",
    "c_m=confusion_matrix(y_test, y_pred) #confusion matrix\n",
    "\n",
    "score =accuracy_score(y_test,y_pred)\n",
    "print(\"Logistic Regression Accuracy is.\")\n",
    "print(score*100)\n",
    "c_m"
   ]
  },
  {
   "cell_type": "markdown",
   "metadata": {},
   "source": [
    "## Random Forest"
   ]
  },
  {
   "cell_type": "code",
   "execution_count": 16,
   "metadata": {
    "ExecuteTime": {
     "end_time": "2019-12-17T15:20:12.794622Z",
     "start_time": "2019-12-17T15:20:12.528870Z"
    },
    "scrolled": true
   },
   "outputs": [
    {
     "name": "stdout",
     "output_type": "stream",
     "text": [
      "random forest\n",
      "87.5\n"
     ]
    }
   ],
   "source": [
    "clf = RandomForestClassifier(n_estimators=46,random_state=8)\n",
    "clf.fit(x_train, y_train) #Training the model\n",
    "\n",
    "predicted_classes = clf.predict(x_test)\n",
    "accuracy = accuracy_score(y_test,predicted_classes) #evaluating the test data\n",
    "print(\"random forest\")\n",
    "print(accuracy*100)"
   ]
  },
  {
   "cell_type": "markdown",
   "metadata": {},
   "source": [
    "## Neural Network"
   ]
  },
  {
   "cell_type": "code",
   "execution_count": 17,
   "metadata": {
    "ExecuteTime": {
     "end_time": "2019-12-17T15:20:49.575065Z",
     "start_time": "2019-12-17T15:20:12.795621Z"
    }
   },
   "outputs": [
    {
     "name": "stdout",
     "output_type": "stream",
     "text": [
      "100.0\n"
     ]
    }
   ],
   "source": [
    "model = MLPClassifier(hidden_layer_sizes=(600,500,400,300))\n",
    "\n",
    "model.fit(x_train, y_train) #training the model\n",
    "\n",
    "predicted_classes = model.predict(x_test) #evaluating with test data\n",
    "\n",
    "\n",
    "\n",
    "accuracy = accuracy_score(y_test,predicted_classes)\n",
    "print(accuracy*100)"
   ]
  },
  {
   "cell_type": "code",
   "execution_count": 18,
   "metadata": {
    "ExecuteTime": {
     "end_time": "2019-12-17T15:20:49.590474Z",
     "start_time": "2019-12-17T15:20:49.578260Z"
    }
   },
   "outputs": [
    {
     "data": {
      "text/plain": [
       "array([[2, 0, 0, 0, 0],\n",
       "       [0, 1, 0, 0, 0],\n",
       "       [0, 0, 1, 0, 0],\n",
       "       [0, 0, 0, 2, 0],\n",
       "       [0, 0, 0, 0, 2]], dtype=int64)"
      ]
     },
     "execution_count": 18,
     "metadata": {},
     "output_type": "execute_result"
    }
   ],
   "source": [
    "c_m=confusion_matrix(y_test,predicted_classes)\n",
    "c_m"
   ]
  },
  {
   "cell_type": "code",
   "execution_count": null,
   "metadata": {},
   "outputs": [],
   "source": []
  }
 ],
 "metadata": {
  "kernelspec": {
   "display_name": "Python 3",
   "language": "python",
   "name": "python3"
  },
  "language_info": {
   "codemirror_mode": {
    "name": "ipython",
    "version": 3
   },
   "file_extension": ".py",
   "mimetype": "text/x-python",
   "name": "python",
   "nbconvert_exporter": "python",
   "pygments_lexer": "ipython3",
   "version": "3.7.5"
  },
  "varInspector": {
   "cols": {
    "lenName": 16,
    "lenType": 16,
    "lenVar": 40
   },
   "kernels_config": {
    "python": {
     "delete_cmd_postfix": "",
     "delete_cmd_prefix": "del ",
     "library": "var_list.py",
     "varRefreshCmd": "print(var_dic_list())"
    },
    "r": {
     "delete_cmd_postfix": ") ",
     "delete_cmd_prefix": "rm(",
     "library": "var_list.r",
     "varRefreshCmd": "cat(var_dic_list()) "
    }
   },
   "types_to_exclude": [
    "module",
    "function",
    "builtin_function_or_method",
    "instance",
    "_Feature"
   ],
   "window_display": false
  }
 },
 "nbformat": 4,
 "nbformat_minor": 2
}
